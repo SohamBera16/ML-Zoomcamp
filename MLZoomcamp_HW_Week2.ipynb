{
  "nbformat": 4,
  "nbformat_minor": 0,
  "metadata": {
    "colab": {
      "provenance": [],
      "collapsed_sections": [],
      "authorship_tag": "ABX9TyN/Ep+kfgdiruvSfKcZmizU",
      "include_colab_link": true
    },
    "kernelspec": {
      "name": "python3",
      "display_name": "Python 3"
    },
    "language_info": {
      "name": "python"
    }
  },
  "cells": [
    {
      "cell_type": "markdown",
      "metadata": {
        "id": "view-in-github",
        "colab_type": "text"
      },
      "source": [
        "<a href=\"https://colab.research.google.com/github/SohamBera16/ML-Zoomcamp/blob/main/MLZoomcamp_HW_Week2.ipynb\" target=\"_parent\"><img src=\"https://colab.research.google.com/assets/colab-badge.svg\" alt=\"Open In Colab\"/></a>"
      ]
    },
    {
      "cell_type": "code",
      "execution_count": 1,
      "metadata": {
        "colab": {
          "base_uri": "https://localhost:8080/"
        },
        "id": "Qq5pR7P2vY97",
        "outputId": "f7c0217b-187f-400b-e032-c9b5909af9aa"
      },
      "outputs": [
        {
          "output_type": "stream",
          "name": "stdout",
          "text": [
            "--2022-09-19 07:55:06--  https://raw.githubusercontent.com/alexeygrigorev/datasets/master/housing.csv\n",
            "Resolving raw.githubusercontent.com (raw.githubusercontent.com)... 185.199.110.133, 185.199.108.133, 185.199.111.133, ...\n",
            "Connecting to raw.githubusercontent.com (raw.githubusercontent.com)|185.199.110.133|:443... connected.\n",
            "HTTP request sent, awaiting response... 200 OK\n",
            "Length: 1423529 (1.4M) [text/plain]\n",
            "Saving to: ‘housing.csv’\n",
            "\n",
            "\rhousing.csv           0%[                    ]       0  --.-KB/s               \rhousing.csv         100%[===================>]   1.36M  --.-KB/s    in 0.07s   \n",
            "\n",
            "2022-09-19 07:55:07 (19.7 MB/s) - ‘housing.csv’ saved [1423529/1423529]\n",
            "\n"
          ]
        }
      ],
      "source": [
        "!wget https://raw.githubusercontent.com/alexeygrigorev/datasets/master/housing.csv"
      ]
    },
    {
      "cell_type": "code",
      "source": [
        "import pandas as pd \n",
        "import numpy as np\n",
        "from sklearn.linear_model import LinearRegression\n",
        "import matplotlib.pyplot as plt\n"
      ],
      "metadata": {
        "id": "RCfJBhTcvrZG"
      },
      "execution_count": 12,
      "outputs": []
    },
    {
      "cell_type": "code",
      "source": [
        "data = pd.read_csv(\"housing.csv\")\n",
        "\n",
        "print(data.head(n=7))"
      ],
      "metadata": {
        "colab": {
          "base_uri": "https://localhost:8080/"
        },
        "id": "QvH0WGD7v_k2",
        "outputId": "539d2e1c-42a3-4c47-c438-462b040d529d"
      },
      "execution_count": 3,
      "outputs": [
        {
          "output_type": "stream",
          "name": "stdout",
          "text": [
            "   longitude  latitude  housing_median_age  total_rooms  total_bedrooms  \\\n",
            "0    -122.23     37.88                41.0        880.0           129.0   \n",
            "1    -122.22     37.86                21.0       7099.0          1106.0   \n",
            "2    -122.24     37.85                52.0       1467.0           190.0   \n",
            "3    -122.25     37.85                52.0       1274.0           235.0   \n",
            "4    -122.25     37.85                52.0       1627.0           280.0   \n",
            "5    -122.25     37.85                52.0        919.0           213.0   \n",
            "6    -122.25     37.84                52.0       2535.0           489.0   \n",
            "\n",
            "   population  households  median_income  median_house_value ocean_proximity  \n",
            "0       322.0       126.0         8.3252            452600.0        NEAR BAY  \n",
            "1      2401.0      1138.0         8.3014            358500.0        NEAR BAY  \n",
            "2       496.0       177.0         7.2574            352100.0        NEAR BAY  \n",
            "3       558.0       219.0         5.6431            341300.0        NEAR BAY  \n",
            "4       565.0       259.0         3.8462            342200.0        NEAR BAY  \n",
            "5       413.0       193.0         4.0368            269700.0        NEAR BAY  \n",
            "6      1094.0       514.0         3.6591            299200.0        NEAR BAY  \n"
          ]
        }
      ]
    },
    {
      "cell_type": "code",
      "source": [
        "print('number of records in the dataset',len(data.index))"
      ],
      "metadata": {
        "colab": {
          "base_uri": "https://localhost:8080/"
        },
        "id": "ijWmDRwzwMnU",
        "outputId": "41fe0548-47f7-4e8b-dfc3-4d12221df93e"
      },
      "execution_count": 5,
      "outputs": [
        {
          "output_type": "stream",
          "name": "stdout",
          "text": [
            "number of records in the dataset 20640\n"
          ]
        }
      ]
    },
    {
      "cell_type": "code",
      "source": [
        "print('name of the columns:',data.columns)\n",
        "print('number of columns in the dataset:',len(data.columns))"
      ],
      "metadata": {
        "colab": {
          "base_uri": "https://localhost:8080/"
        },
        "id": "uUoFnlDiwU1X",
        "outputId": "e7dd076c-16f1-44fa-8dd6-98cd4806b719"
      },
      "execution_count": 8,
      "outputs": [
        {
          "output_type": "stream",
          "name": "stdout",
          "text": [
            "name of the columns: Index(['longitude', 'latitude', 'housing_median_age', 'total_rooms',\n",
            "       'total_bedrooms', 'population', 'households', 'median_income',\n",
            "       'median_house_value', 'ocean_proximity'],\n",
            "      dtype='object')\n",
            "number of columns in the dataset: 10\n"
          ]
        }
      ]
    },
    {
      "cell_type": "code",
      "source": [
        "plt.plot(data['median_house_value'])\n",
        "plt.ylabel('median_house_value')\n",
        "plt.show()"
      ],
      "metadata": {
        "colab": {
          "base_uri": "https://localhost:8080/",
          "height": 265
        },
        "id": "2LQavKjQyK9s",
        "outputId": "71c780c3-ba6c-4706-8cb5-abc9df933dac"
      },
      "execution_count": 13,
      "outputs": [
        {
          "output_type": "display_data",
          "data": {
            "text/plain": [
              "<Figure size 432x288 with 1 Axes>"
            ],
            "image/png": "[encoded data removed]"
          },
          "metadata": {
            "needs_background": "light"
          }
        }
      ]
    },
    {
      "cell_type": "code",
      "source": [
        "house_data = data.drop(labels=['ocean_proximity'],axis=1)\n",
        "print(house_data.head())"
      ],
      "metadata": {
        "colab": {
          "base_uri": "https://localhost:8080/"
        },
        "id": "ECg5mWMIweCO",
        "outputId": "d14d94c2-4f27-441b-f377-b7afbcfc4e75"
      },
      "execution_count": 15,
      "outputs": [
        {
          "output_type": "stream",
          "name": "stdout",
          "text": [
            "   longitude  latitude  housing_median_age  total_rooms  total_bedrooms  \\\n",
            "0    -122.23     37.88                41.0        880.0           129.0   \n",
            "1    -122.22     37.86                21.0       7099.0          1106.0   \n",
            "2    -122.24     37.85                52.0       1467.0           190.0   \n",
            "3    -122.25     37.85                52.0       1274.0           235.0   \n",
            "4    -122.25     37.85                52.0       1627.0           280.0   \n",
            "\n",
            "   population  households  median_income  median_house_value  \n",
            "0       322.0       126.0         8.3252            452600.0  \n",
            "1      2401.0      1138.0         8.3014            358500.0  \n",
            "2       496.0       177.0         7.2574            352100.0  \n",
            "3       558.0       219.0         5.6431            341300.0  \n",
            "4       565.0       259.0         3.8462            342200.0  \n"
          ]
        }
      ]
    },
    {
      "cell_type": "code",
      "source": [
        "house_data.isna().sum()"
      ],
      "metadata": {
        "colab": {
          "base_uri": "https://localhost:8080/"
        },
        "id": "JPnmTB8owiy3",
        "outputId": "c4ab80cc-7e00-406a-d8cb-73da3314fee8"
      },
      "execution_count": 20,
      "outputs": [
        {
          "output_type": "execute_result",
          "data": {
            "text/plain": [
              "longitude               0\n",
              "latitude                0\n",
              "housing_median_age      0\n",
              "total_rooms             0\n",
              "total_bedrooms        207\n",
              "population              0\n",
              "households              0\n",
              "median_income           0\n",
              "median_house_value      0\n",
              "dtype: int64"
            ]
          },
          "metadata": {},
          "execution_count": 20
        }
      ]
    },
    {
      "cell_type": "markdown",
      "source": [
        "Answer 1: The feature with missing value is total_bedrooms (with 207 missing values.)"
      ],
      "metadata": {
        "id": "0GAcV-GH00JJ"
      }
    },
    {
      "cell_type": "code",
      "source": [
        "house_data['population'].describe()"
      ],
      "metadata": {
        "colab": {
          "base_uri": "https://localhost:8080/"
        },
        "id": "Xaf6z0QH0_y9",
        "outputId": "30321b44-eedb-49c6-9caf-9de252e6ecb6"
      },
      "execution_count": 23,
      "outputs": [
        {
          "output_type": "execute_result",
          "data": {
            "text/plain": [
              "count    20640.000000\n",
              "mean      1425.476744\n",
              "std       1132.462122\n",
              "min          3.000000\n",
              "25%        787.000000\n",
              "50%       1166.000000\n",
              "75%       1725.000000\n",
              "max      35682.000000\n",
              "Name: population, dtype: float64"
            ]
          },
          "metadata": {},
          "execution_count": 23
        }
      ]
    },
    {
      "cell_type": "markdown",
      "source": [
        "Answer 2: The median (50% percentile) for variable 'population' is 1166. "
      ],
      "metadata": {
        "id": "O4csXZtw1P4m"
      }
    },
    {
      "cell_type": "code",
      "source": [
        "y = house_data['median_house_value']\n",
        "print(y.head())\n",
        "\n",
        "X = house_data.drop(labels=['median_house_value'],axis=1)\n",
        "print(X.head())"
      ],
      "metadata": {
        "colab": {
          "base_uri": "https://localhost:8080/"
        },
        "id": "lHAccR0u6iWw",
        "outputId": "13a73a59-2c7a-4d9f-f4e5-c53b6917a6dc"
      },
      "execution_count": 29,
      "outputs": [
        {
          "output_type": "stream",
          "name": "stdout",
          "text": [
            "0    452600.0\n",
            "1    358500.0\n",
            "2    352100.0\n",
            "3    341300.0\n",
            "4    342200.0\n",
            "Name: median_house_value, dtype: float64\n",
            "   longitude  latitude  housing_median_age  total_rooms  total_bedrooms  \\\n",
            "0    -122.23     37.88                41.0        880.0           129.0   \n",
            "1    -122.22     37.86                21.0       7099.0          1106.0   \n",
            "2    -122.24     37.85                52.0       1467.0           190.0   \n",
            "3    -122.25     37.85                52.0       1274.0           235.0   \n",
            "4    -122.25     37.85                52.0       1627.0           280.0   \n",
            "\n",
            "   population  households  median_income  \n",
            "0       322.0       126.0         8.3252  \n",
            "1      2401.0      1138.0         8.3014  \n",
            "2       496.0       177.0         7.2574  \n",
            "3       558.0       219.0         5.6431  \n",
            "4       565.0       259.0         3.8462  \n"
          ]
        }
      ]
    },
    {
      "cell_type": "code",
      "source": [
        "# log-transformation of the target label to reduce skewness \n",
        "y = np.log1p(y)      #log (1 plus variable)\n",
        "plt.plot(y)\n",
        "plt.ylabel('log_median_house_value')\n",
        "plt.show()"
      ],
      "metadata": {
        "colab": {
          "base_uri": "https://localhost:8080/",
          "height": 265
        },
        "id": "3qqijPAr-wer",
        "outputId": "aec9a47b-e853-48b6-a913-fae4ba9a108a"
      },
      "execution_count": 39,
      "outputs": [
        {
          "output_type": "display_data",
          "data": {
            "text/plain": [
              "<Figure size 432x288 with 1 Axes>"
            ],
            "image/png": "[encoded data removed]"
          },
          "metadata": {
            "needs_background": "light"
          }
        }
      ]
    },
    {
      "cell_type": "code",
      "source": [
        "from sklearn.model_selection import train_test_split\n",
        "\n",
        "X_train, X_test, y_train, y_test = train_test_split(X, y, test_size=0.2, random_state = 42, shuffle=True) \n",
        "\n",
        "X_train, X_val, y_train, y_val  = train_test_split(X_train, y_train, test_size=0.25, random_state=42)"
      ],
      "metadata": {
        "id": "IkGM_Ft61HDi"
      },
      "execution_count": 40,
      "outputs": []
    },
    {
      "cell_type": "code",
      "source": [
        "X_train_zerofill = X_train.fillna(value = 0)\n",
        "X_train_meanfill = X_train.fillna(value = X_train['total_bedrooms'].mean())"
      ],
      "metadata": {
        "id": "23JUjtdW2Lwh"
      },
      "execution_count": 45,
      "outputs": []
    },
    {
      "cell_type": "code",
      "source": [
        "from sklearn.metrics import mean_squared_error"
      ],
      "metadata": {
        "id": "oUNsw4LGCrbW"
      },
      "execution_count": 46,
      "outputs": []
    },
    {
      "cell_type": "code",
      "source": [
        "reg_zerofill = LinearRegression().fit(X_train_zerofill, y_train)\n",
        "y_pred_zerofill = reg_zerofill.predict(X_val)\n",
        "\n",
        "rmse_zerofill = mean_squared_error(y_val, y_pred_zerofill, squared=False)\n",
        "#rmse_zerofill = round(rmse_zerofill, 2)\n",
        "print('rmse with zerofill',rmse_zerofill)"
      ],
      "metadata": {
        "colab": {
          "base_uri": "https://localhost:8080/"
        },
        "id": "o-TQ7KQRA0JL",
        "outputId": "aadce6f6-72b3-4a34-ee75-e037cb5768c7"
      },
      "execution_count": 52,
      "outputs": [
        {
          "output_type": "stream",
          "name": "stdout",
          "text": [
            "rmse with zerofill 0.00032329556588184076\n"
          ]
        }
      ]
    },
    {
      "cell_type": "code",
      "source": [
        "reg_meanfill = LinearRegression().fit(X_train_meanfill, y_train)\n",
        "y_pred_meanfill = reg_meanfill.predict(X_val)\n",
        "\n",
        "rmse_meanfill = mean_squared_error(y_val, y_pred_meanfill, squared=False)\n",
        "#rmse_meanfill = round(rmse_meanfill, 2)\n",
        "print('rmse with meanfill',rmse_meanfill)"
      ],
      "metadata": {
        "colab": {
          "base_uri": "https://localhost:8080/"
        },
        "id": "NzmIdpoTDP1S",
        "outputId": "dc823a02-3bb8-4d89-9239-55e5a1ca637b"
      },
      "execution_count": 53,
      "outputs": [
        {
          "output_type": "stream",
          "name": "stdout",
          "text": [
            "rmse with meanfill 0.00032329556588184076\n"
          ]
        }
      ]
    },
    {
      "cell_type": "markdown",
      "source": [
        "Answer 3: Both the options of filling missing values i.e. filling with zero as well filling with mean value are equally good. "
      ],
      "metadata": {
        "id": "629O2GCrEgjc"
      }
    },
    {
      "cell_type": "code",
      "source": [
        "def train_linear_regression_reg(X, y, r=0):\n",
        "  ones = np.ones(X.shape[0])\n",
        "  X = np.column_stack([ones, X])\n",
        "\n",
        "  XTX = X.T.dot(X)\n",
        "  XTX = XTX + r * np.eye(XTX.shape[0])\n",
        "\n",
        "  XTX_inv = np.linalg.inv(XTX)\n",
        "  w_full = XTX_inv.dot(X.T).dot(y)\n",
        "\n",
        "  return w_full[0], w_full[1:]"
      ],
      "metadata": {
        "id": "e6kCvYC3Dtdx"
      },
      "execution_count": 60,
      "outputs": []
    },
    {
      "cell_type": "code",
      "source": [
        "def rmse(predictions, targets):\n",
        "    return np.sqrt(((predictions - targets) ** 2).mean())"
      ],
      "metadata": {
        "id": "VZYBatrxNevo"
      },
      "execution_count": 61,
      "outputs": []
    },
    {
      "cell_type": "code",
      "source": [
        "r_values = [0, 0.000001, 0.0001, 0.001, 0.01, 0.1, 1, 5, 10]\n",
        "rmse_scores = []\n",
        "\n",
        "for r in r_values:\n",
        "  X_train, X_test, y_train, y_test = train_test_split(X, y, test_size=0.2, random_state = 42)\n",
        "  X_train = X_train.fillna(value = 0)\n",
        "  X_train, X_val, y_train, y_val  = train_test_split(X_train, y_train, test_size=0.25, random_state=42)\n",
        "  w0, w = train_linear_regression_reg(X_train, y_train, r)\n",
        "  y_pred = w0 + X_val.dot(w)\n",
        "  rmse_zerofill = rmse(y_pred, y_val)\n",
        "  rmse_zerofill = round(rmse_zerofill,2)\n",
        "  rmse_scores.append(rmse_zerofill)\n",
        "\n",
        "#print(rmse_scores)\n",
        "optimum_r = rmse_scores.index(min(rmse_scores))\n",
        "print('best r value is:',r_values[optimum_r])"
      ],
      "metadata": {
        "colab": {
          "base_uri": "https://localhost:8080/"
        },
        "id": "8A7kx1nIF1MA",
        "outputId": "d6ed6776-9bb7-4a21-d648-a74426bb2fff"
      },
      "execution_count": 66,
      "outputs": [
        {
          "output_type": "stream",
          "name": "stdout",
          "text": [
            "best r value is: 0\n"
          ]
        }
      ]
    },
    {
      "cell_type": "markdown",
      "source": [
        "Answer 4: The smallest r value is 0. "
      ],
      "metadata": {
        "id": "VKtGS6sFQXPi"
      }
    },
    {
      "cell_type": "code",
      "source": [
        "# testing the effect of different seed values \n",
        "seed = [0, 1, 2, 3, 4, 5, 6, 7, 8, 9]\n",
        "rmse_scores = []\n",
        "\n",
        "for s in seed: \n",
        "  X_train, X_test, y_train, y_test = train_test_split(X, y, test_size=0.2, random_state = s)\n",
        "  X_train = X_train.fillna(value = 0)\n",
        "  X_train, X_val, y_train, y_val  = train_test_split(X_train, y_train, test_size=0.25, random_state=s)\n",
        "  w0, w = train_linear_regression_reg(X_train, y_train, r)\n",
        "  y_pred = w0 + X_val.dot(w)\n",
        "  rmse_zerofill = rmse(y_pred, y_val)\n",
        "  rmse_zerofill = round(rmse_zerofill,3)\n",
        "  rmse_scores.append(rmse_zerofill)\n",
        "\n",
        "print(rmse_scores)\n",
        "std = np.std(rmse_scores)\n",
        "print(std)\n",
        "std_dev = round(std, 3)\n",
        "print(std_dev)"
      ],
      "metadata": {
        "colab": {
          "base_uri": "https://localhost:8080/"
        },
        "id": "VIX7LC5eF1oG",
        "outputId": "801c6263-0059-481f-d3b6-5bf9be4306d1"
      },
      "execution_count": 67,
      "outputs": [
        {
          "output_type": "stream",
          "name": "stdout",
          "text": [
            "[0.002, 0.002, 0.002, 0.002, 0.002, 0.002, 0.002, 0.002, 0.002, 0.002]\n",
            "4.336808689942018e-19\n",
            "0.0\n"
          ]
        }
      ]
    },
    {
      "cell_type": "markdown",
      "source": [
        "Answer 5: The nearest value to the answer is 0.00005."
      ],
      "metadata": {
        "id": "LpFSKTg_JBln"
      }
    },
    {
      "cell_type": "code",
      "source": [
        "X_train, X_test, y_train, y_test = train_test_split(X, y, test_size=0.2, random_state = 9)\n",
        "X_train = X_train.fillna(value = 0)\n",
        "w0, w = train_linear_regression_reg(X_train, y_train, r=0.001)\n",
        "y_pred = w0 + X_test.dot(w)\n",
        "rmse_zerofill = rmse(y_test, y_pred)\n",
        "#rmse_zerofill = round(rmse_zerofill,3)\n",
        "print('RMSE score on the test dataset is: ',rmse_zerofill)"
      ],
      "metadata": {
        "colab": {
          "base_uri": "https://localhost:8080/"
        },
        "id": "83vsM-VvHlYb",
        "outputId": "c48f9465-74cf-49c6-b1ba-966bff614059"
      },
      "execution_count": 71,
      "outputs": [
        {
          "output_type": "stream",
          "name": "stdout",
          "text": [
            "RMSE score on the test dataset is:  0.00032114779029203855\n"
          ]
        }
      ]
    },
    {
      "cell_type": "markdown",
      "source": [
        "Answer 6: The closest answer is : 0.135"
      ],
      "metadata": {
        "id": "somLFRHOSUF8"
      }
    }
  ]
}